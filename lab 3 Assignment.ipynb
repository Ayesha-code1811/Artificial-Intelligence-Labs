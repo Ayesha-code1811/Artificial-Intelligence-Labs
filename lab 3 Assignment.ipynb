{
 "cells": [
  {
   "cell_type": "code",
   "execution_count": 4,
   "id": "d074552c-4535-4307-9d1c-0048a47c662c",
   "metadata": {},
   "outputs": [
    {
     "name": "stdout",
     "output_type": "stream",
     "text": [
      "     Name  Age\n",
      "0  Ayesha   25\n",
      "1     Ali   30\n",
      "2    Sara   22\n"
     ]
    }
   ],
   "source": [
    "import pandas as pd\n",
    "\n",
    "data = {'Name': ['Ayesha', 'Ali', 'Sara'],\n",
    "        'Age': [25, 30, 22]}\n",
    "df = pd.DataFrame(data)\n",
    "print(df)\n"
   ]
  },
  {
   "cell_type": "code",
   "execution_count": 2,
   "id": "9e065433-cf67-4051-bb21-b5c4b5d66a40",
   "metadata": {},
   "outputs": [
    {
     "name": "stdout",
     "output_type": "stream",
     "text": [
      "Name    category\n",
      "Age        int64\n",
      "dtype: object\n"
     ]
    }
   ],
   "source": [
    "df['Name'] = df['Name'].astype('category')\n",
    "print(df.dtypes)  # This checks the new data types of the columns\n"
   ]
  },
  {
   "cell_type": "code",
   "execution_count": 3,
   "id": "56a47706-67da-4e66-8485-e696e78f5807",
   "metadata": {},
   "outputs": [
    {
     "name": "stdout",
     "output_type": "stream",
     "text": [
      "     count       mean       std   min   25%   50%   75%   max\n",
      "Age    3.0  25.666667  4.041452  22.0  23.5  25.0  27.5  30.0\n"
     ]
    }
   ],
   "source": [
    "summary = df.describe().T\n",
    "print(summary)\n"
   ]
  },
  {
   "cell_type": "code",
   "execution_count": 8,
   "id": "d67c7888-6b47-4ecf-972a-8d0e5997029e",
   "metadata": {},
   "outputs": [
    {
     "name": "stdout",
     "output_type": "stream",
     "text": [
      "Age\n",
      "22    1\n",
      "25    1\n",
      "30    1\n",
      "dtype: int64\n"
     ]
    }
   ],
   "source": [
    "grouped_data = df.groupby('Age').size()\n",
    "print(grouped_data)\n"
   ]
  },
  {
   "cell_type": "code",
   "execution_count": 9,
   "id": "ae168e30-fc13-4824-bd5e-ad67a5403f13",
   "metadata": {},
   "outputs": [
    {
     "name": "stdout",
     "output_type": "stream",
     "text": [
      "True\n"
     ]
    }
   ],
   "source": [
    "is_present = 'Ayesha' in df['Name'].values\n",
    "print(is_present)  # This will return True or False\n"
   ]
  },
  {
   "cell_type": "code",
   "execution_count": 10,
   "id": "1844f4e3-cfd5-458f-ae93-62ae548080d9",
   "metadata": {},
   "outputs": [
    {
     "name": "stdout",
     "output_type": "stream",
     "text": [
      "25\n"
     ]
    }
   ],
   "source": [
    "value = df.iloc[0, 1]  # Accessing the value at first row and second column\n",
    "print(value)\n",
    "# Now, decide whether this value is dependent (like a target variable) or independent (a feature)\n"
   ]
  },
  {
   "cell_type": "code",
   "execution_count": null,
   "id": "6274c1c1-98ae-470b-891c-55623280b9bf",
   "metadata": {},
   "outputs": [],
   "source": []
  }
 ],
 "metadata": {
  "kernelspec": {
   "display_name": "Python 3 (ipykernel)",
   "language": "python",
   "name": "python3"
  },
  "language_info": {
   "codemirror_mode": {
    "name": "ipython",
    "version": 3
   },
   "file_extension": ".py",
   "mimetype": "text/x-python",
   "name": "python",
   "nbconvert_exporter": "python",
   "pygments_lexer": "ipython3",
   "version": "3.12.4"
  }
 },
 "nbformat": 4,
 "nbformat_minor": 5
}
